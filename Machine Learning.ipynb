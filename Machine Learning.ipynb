{
 "cells": [
  {
   "cell_type": "markdown",
   "metadata": {},
   "source": [
    "# Machine Learning"
   ]
  },
  {
   "cell_type": "markdown",
   "metadata": {},
   "source": [
    "## Regresión Lineal"
   ]
  },
  {
   "cell_type": "code",
   "execution_count": 1,
   "metadata": {
    "collapsed": true
   },
   "outputs": [],
   "source": [
    "import pandas as pd\n",
    "import numpy as np"
   ]
  },
  {
   "cell_type": "code",
   "execution_count": 2,
   "metadata": {
    "collapsed": true
   },
   "outputs": [],
   "source": [
    "%matplotlib inline\n",
    "import matplotlib.pyplot as plt\n",
    "plt.rcParams['figure.figsize'] = (12,12)\n",
    "plt.rcParams['font.size'] = 16"
   ]
  },
  {
   "cell_type": "code",
   "execution_count": 3,
   "metadata": {
    "collapsed": true
   },
   "outputs": [],
   "source": [
    "vehiculos = pd.read_csv(\"data/vehiculos_procesado.csv\", \n",
    "                 usecols=[\"consumo\", \"co2\", \"cilindros\",\"desplazamiento\"])\n",
    "\n",
    "\n",
    "litros_por_galon =  3.78541\n",
    "vehiculos[\"consumo_litros_milla\"] = litros_por_galon/ vehiculos.consumo\n",
    "\n"
   ]
  },
  {
   "cell_type": "code",
   "execution_count": 4,
   "metadata": {},
   "outputs": [
    {
     "data": {
      "text/plain": [
       "(35539, 5)"
      ]
     },
     "execution_count": 4,
     "metadata": {},
     "output_type": "execute_result"
    }
   ],
   "source": [
    "vehiculos.shape"
   ]
  },
  {
   "cell_type": "code",
   "execution_count": 5,
   "metadata": {},
   "outputs": [
    {
     "data": {
      "text/html": [
       "<div>\n",
       "<style scoped>\n",
       "    .dataframe tbody tr th:only-of-type {\n",
       "        vertical-align: middle;\n",
       "    }\n",
       "\n",
       "    .dataframe tbody tr th {\n",
       "        vertical-align: top;\n",
       "    }\n",
       "\n",
       "    .dataframe thead th {\n",
       "        text-align: right;\n",
       "    }\n",
       "</style>\n",
       "<table border=\"1\" class=\"dataframe\">\n",
       "  <thead>\n",
       "    <tr style=\"text-align: right;\">\n",
       "      <th></th>\n",
       "      <th>desplazamiento</th>\n",
       "      <th>cilindros</th>\n",
       "      <th>consumo</th>\n",
       "      <th>co2</th>\n",
       "      <th>consumo_litros_milla</th>\n",
       "    </tr>\n",
       "  </thead>\n",
       "  <tbody>\n",
       "    <tr>\n",
       "      <th>0</th>\n",
       "      <td>2.5</td>\n",
       "      <td>4.0</td>\n",
       "      <td>17</td>\n",
       "      <td>522.764706</td>\n",
       "      <td>0.222671</td>\n",
       "    </tr>\n",
       "    <tr>\n",
       "      <th>1</th>\n",
       "      <td>4.2</td>\n",
       "      <td>6.0</td>\n",
       "      <td>13</td>\n",
       "      <td>683.615385</td>\n",
       "      <td>0.291185</td>\n",
       "    </tr>\n",
       "    <tr>\n",
       "      <th>2</th>\n",
       "      <td>2.5</td>\n",
       "      <td>4.0</td>\n",
       "      <td>16</td>\n",
       "      <td>555.437500</td>\n",
       "      <td>0.236588</td>\n",
       "    </tr>\n",
       "    <tr>\n",
       "      <th>3</th>\n",
       "      <td>4.2</td>\n",
       "      <td>6.0</td>\n",
       "      <td>13</td>\n",
       "      <td>683.615385</td>\n",
       "      <td>0.291185</td>\n",
       "    </tr>\n",
       "    <tr>\n",
       "      <th>4</th>\n",
       "      <td>3.8</td>\n",
       "      <td>6.0</td>\n",
       "      <td>16</td>\n",
       "      <td>555.437500</td>\n",
       "      <td>0.236588</td>\n",
       "    </tr>\n",
       "  </tbody>\n",
       "</table>\n",
       "</div>"
      ],
      "text/plain": [
       "   desplazamiento  cilindros  consumo         co2  consumo_litros_milla\n",
       "0             2.5        4.0       17  522.764706              0.222671\n",
       "1             4.2        6.0       13  683.615385              0.291185\n",
       "2             2.5        4.0       16  555.437500              0.236588\n",
       "3             4.2        6.0       13  683.615385              0.291185\n",
       "4             3.8        6.0       16  555.437500              0.236588"
      ]
     },
     "execution_count": 5,
     "metadata": {},
     "output_type": "execute_result"
    }
   ],
   "source": [
    "vehiculos.head()"
   ]
  },
  {
   "cell_type": "markdown",
   "metadata": {},
   "source": [
    "El modelo de regresión lineal mediante OLS (ordinary least squares) tiene la forma:\n",
    "\n",
    "                                𝑦̂ =𝛼+𝛽1∗𝑥1+𝛽2∗𝑥2+...+𝛽𝑛∗𝑥𝑛+𝜀\n",
    "\n",
    "Donde **𝑦̂** es la predicción que queremos hacer, **𝛼** es el término independiente, **𝛽𝑛** es un vector de coeficientes y **𝑥𝑛** son los valores de las variables del dataset. El objetivo es obtener **𝛼** y **𝛽𝑛** tales que error cuadrático (residuo) , definido como:\n",
    "\n",
    "                                𝑅𝑆𝑆=𝜀²=∑𝑖=1𝑛(𝑦𝑖−(𝛼−𝛽𝑖𝑥𝑖))2\n",
    "\n",
    "sea el mínimo.\n",
    "\n",
    "Para ello tenemos que resolver las siguientes equaciones\n",
    "\n",
    "                                   𝛼̂ =𝑦¯−𝛽̂ ∗𝑥¯ \n",
    "                                   𝛽̂ =(𝑋𝑇𝑋)−1𝑋𝑇𝑦 "
   ]
  },
  {
   "cell_type": "markdown",
   "metadata": {},
   "source": [
    "Para obtener los coeficientes del modelo dedicamos una fracción del dataset a entrenar y otra a evaluar los resultados (para evitar sobreajuste o sobregeneralización)"
   ]
  },
  {
   "cell_type": "code",
   "execution_count": 6,
   "metadata": {
    "collapsed": true
   },
   "outputs": [],
   "source": [
    "pct_entrenamiento = 0.8"
   ]
  },
  {
   "cell_type": "code",
   "execution_count": 7,
   "metadata": {},
   "outputs": [
    {
     "name": "stdout",
     "output_type": "stream",
     "text": [
      "(28431, 5)\n",
      "(7108, 5)\n"
     ]
    }
   ],
   "source": [
    "vehiculos_training = vehiculos.sample(frac=pct_entrenamiento)\n",
    "\n",
    "\n",
    "vehiculos_test = vehiculos[~vehiculos.index.isin(vehiculos_training.index)]\n",
    "\n",
    "print(vehiculos_training.shape)\n",
    "print(vehiculos_test.shape)"
   ]
  },
  {
   "cell_type": "code",
   "execution_count": 8,
   "metadata": {},
   "outputs": [
    {
     "name": "stderr",
     "output_type": "stream",
     "text": [
      "/home/manumonforte/anaconda3/lib/python3.6/site-packages/ipykernel_launcher.py:3: FutureWarning: Method .as_matrix will be removed in a future version. Use .values instead.\n",
      "  This is separate from the ipykernel package so we can avoid doing imports until\n",
      "/home/manumonforte/anaconda3/lib/python3.6/site-packages/ipykernel_launcher.py:4: FutureWarning: Method .as_matrix will be removed in a future version. Use .values instead.\n",
      "  after removing the cwd from sys.path.\n"
     ]
    }
   ],
   "source": [
    "variables_independientes = ['desplazamiento', 'cilindros','consumo_litros_milla']\n",
    "variable_dependiente = 'co2'\n",
    "X = vehiculos_training[variables_independientes].as_matrix()\n",
    "y = vehiculos_training[variable_dependiente].as_matrix()\n",
    "X_T = X.T"
   ]
  },
  {
   "cell_type": "code",
   "execution_count": 9,
   "metadata": {},
   "outputs": [
    {
     "data": {
      "text/plain": [
       "array([[3.9       , 6.        , 0.29118538],\n",
       "       [2.4       , 4.        , 0.18025762],\n",
       "       [3.1       , 6.        , 0.27038643],\n",
       "       ...,\n",
       "       [2.5       , 4.        , 0.19923211],\n",
       "       [5.3       , 8.        , 0.21030056],\n",
       "       [2.3       , 4.        , 0.18025762]])"
      ]
     },
     "execution_count": 9,
     "metadata": {},
     "output_type": "execute_result"
    }
   ],
   "source": [
    "X"
   ]
  },
  {
   "cell_type": "code",
   "execution_count": 10,
   "metadata": {},
   "outputs": [
    {
     "data": {
      "text/plain": [
       "array([683.61538462, 423.19047619, 634.78571429, ..., 459.        ,\n",
       "       500.        , 423.19047619])"
      ]
     },
     "execution_count": 10,
     "metadata": {},
     "output_type": "execute_result"
    }
   ],
   "source": [
    "y"
   ]
  },
  {
   "cell_type": "code",
   "execution_count": 11,
   "metadata": {},
   "outputs": [
    {
     "data": {
      "text/plain": [
       "array([ 3.96410641e+00, -7.08865264e-01,  2.30599061e+03])"
      ]
     },
     "execution_count": 11,
     "metadata": {},
     "output_type": "execute_result"
    }
   ],
   "source": [
    "betas = np.linalg.inv(X_T @ X) @ X_T @ y\n",
    "betas"
   ]
  },
  {
   "cell_type": "code",
   "execution_count": 12,
   "metadata": {},
   "outputs": [
    {
     "data": {
      "text/plain": [
       "470.9604298838727"
      ]
     },
     "execution_count": 12,
     "metadata": {},
     "output_type": "execute_result"
    }
   ],
   "source": [
    "y.mean()"
   ]
  },
  {
   "cell_type": "code",
   "execution_count": 13,
   "metadata": {},
   "outputs": [
    {
     "name": "stderr",
     "output_type": "stream",
     "text": [
      "/home/manumonforte/anaconda3/lib/python3.6/site-packages/ipykernel_launcher.py:1: FutureWarning: Method .as_matrix will be removed in a future version. Use .values instead.\n",
      "  \"\"\"Entry point for launching an IPython kernel.\n"
     ]
    },
    {
     "data": {
      "text/plain": [
       "0.3555199521286454"
      ]
     },
     "execution_count": 13,
     "metadata": {},
     "output_type": "execute_result"
    }
   ],
   "source": [
    "alfa = y.mean() - np.dot(betas,vehiculos_training[variables_independientes].mean().as_matrix())\n",
    "alfa"
   ]
  },
  {
   "cell_type": "code",
   "execution_count": 14,
   "metadata": {
    "collapsed": true
   },
   "outputs": [],
   "source": [
    "def predecir(r):\n",
    "    return alfa + np.dot(betas, r.values)"
   ]
  },
  {
   "cell_type": "code",
   "execution_count": 15,
   "metadata": {},
   "outputs": [
    {
     "name": "stderr",
     "output_type": "stream",
     "text": [
      "/home/manumonforte/anaconda3/lib/python3.6/site-packages/ipykernel_launcher.py:3: SettingWithCopyWarning: \n",
      "A value is trying to be set on a copy of a slice from a DataFrame.\n",
      "Try using .loc[row_indexer,col_indexer] = value instead\n",
      "\n",
      "See the caveats in the documentation: http://pandas.pydata.org/pandas-docs/stable/indexing.html#indexing-view-versus-copy\n",
      "  This is separate from the ipykernel package so we can avoid doing imports until\n"
     ]
    }
   ],
   "source": [
    "vehiculos_training[\"co2_pred\"] = vehiculos_training[variables_independientes].apply(\n",
    "    predecir, axis=1)\n",
    "vehiculos_test[\"co2_pred\"] = vehiculos_test[variables_independientes].apply(predecir, axis=1)"
   ]
  },
  {
   "cell_type": "code",
   "execution_count": 16,
   "metadata": {},
   "outputs": [
    {
     "data": {
      "text/plain": [
       "'y ~ 0.356 + 3.96*desplazamiento + -0.71*cilindros + 2305.991*consumo_litros_milla'"
      ]
     },
     "execution_count": 16,
     "metadata": {},
     "output_type": "execute_result"
    }
   ],
   "source": [
    "model_formula = \"y ~ {alfa:.3f} + {beta_1:.2f}*desplazamiento + {beta_2:.2f}*cilindros + {beta_3:.3f}*consumo_litros_milla\".format(\n",
    "    alfa=alfa, beta_1=betas[0], beta_2=betas[1], beta_3=betas[2])\n",
    "model_formula"
   ]
  },
  {
   "cell_type": "code",
   "execution_count": 17,
   "metadata": {},
   "outputs": [
    {
     "data": {
      "image/png": "[encoded data removed]",
      "text/plain": [
       "<Figure size 864x864 with 1 Axes>"
      ]
     },
     "metadata": {},
     "output_type": "display_data"
    }
   ],
   "source": [
    "plt.scatter(vehiculos_test.consumo_litros_milla, vehiculos_test.co2, alpha=0.5, label=\"real\")\n",
    "plt.text(0.1, 850, model_formula)\n",
    "plt.plot(vehiculos_test.consumo_litros_milla,vehiculos_test.co2_pred, c=\"black\", label=\"prediccion\")\n",
    "plt.xlabel(\"Consumo combustible (litros/milla)\")\n",
    "plt.ylabel(\"emisión CO2 gramos/milla\")\n",
    "plt.legend();"
   ]
  },
  {
   "cell_type": "code",
   "execution_count": 18,
   "metadata": {
    "collapsed": true
   },
   "outputs": [],
   "source": [
    "def error_cuadrático_medio(y, y_pred):\n",
    "    return np.sum((y-y_pred)**2)/len(y)"
   ]
  },
  {
   "cell_type": "code",
   "execution_count": 19,
   "metadata": {},
   "outputs": [
    {
     "data": {
      "text/plain": [
       "129.36835238631795"
      ]
     },
     "execution_count": 19,
     "metadata": {},
     "output_type": "execute_result"
    }
   ],
   "source": [
    "error_training = error_cuadrático_medio(vehiculos_training.co2, vehiculos_training.co2_pred)\n",
    "error_training"
   ]
  },
  {
   "cell_type": "code",
   "execution_count": 20,
   "metadata": {},
   "outputs": [
    {
     "data": {
      "text/plain": [
       "139.26958746280835"
      ]
     },
     "execution_count": 20,
     "metadata": {},
     "output_type": "execute_result"
    }
   ],
   "source": [
    "error_test = error_cuadrático_medio(vehiculos_test.co2, vehiculos_test.co2_pred)\n",
    "error_test"
   ]
  },
  {
   "cell_type": "markdown",
   "metadata": {},
   "source": [
    "### Regresion Lineal con sklearn"
   ]
  },
  {
   "cell_type": "markdown",
   "metadata": {},
   "source": [
    "Para prácticar el Análisis Exploratorio de Datos, vamos a usar una versión modificada del dataset [The Movies Dataset](https://www.kaggle.com/rounakbanik/the-movies-dataset) que contiene información sobre películas, información relacionada con el éxito de dichas películas en cuanto a popularidad y venta de entradas.\n",
    "\n",
    "El dataset se encuentra en el archivo `data/movies.csv`, y consta de las siguientes columnas:\n",
    "\n",
    "```\n",
    "    belongs_to_collection (franquicia): Nombre de la franquicia a la cual pertenece la película.\n",
    "    budget (presupuesto): Presupuesto de la película en dólares.\n",
    "    genres (genero): Género de la pelicula.\n",
    "    homepage (pagina_web): Página Web oficial de la película.\n",
    "    imdb_id: ID de la película en IMDB.\n",
    "    original_language (lenguaje): El lenguage original en el que se rodó la película.\n",
    "    overview: Descripción de la película.\n",
    "    popularity (popularidad): Puntuación de Popularidad.\n",
    "    poster_path (poster): url del poster de la película\n",
    "    production_companies (productores): Lista de compañias que produjeron la pelicula\n",
    "    production_countries (pais): Pais de produccion de la película\n",
    "    release_date (fecha_estreno): Fecha del estreno  de la película\n",
    "    revenue (ventas): Ventas de entradas en dólares de la película.\n",
    "    runtime (duracion): Duración en minutos de la película.\n",
    "    status (estado): Estado de la película (estrenada, en producción, etc).\n",
    "    tagline: Frase descriptiva de la película.\n",
    "    title (titulo): Título de la película.\n",
    "    vote_average (puntuacion): Puntuación media de la película.\n",
    "    vote_count (n_votos): Número de votos.\n",
    "```\n",
    "\n"
   ]
  },
  {
   "cell_type": "markdown",
   "metadata": {},
   "source": [
    "Vamos a usar el dataset de películas. Para este ejercicio la variable objetivo es las ventas en taquilla de la película (la columna `revenue`)"
   ]
  },
  {
   "cell_type": "code",
   "execution_count": 21,
   "metadata": {},
   "outputs": [
    {
     "data": {
      "text/html": [
       "<div>\n",
       "<style scoped>\n",
       "    .dataframe tbody tr th:only-of-type {\n",
       "        vertical-align: middle;\n",
       "    }\n",
       "\n",
       "    .dataframe tbody tr th {\n",
       "        vertical-align: top;\n",
       "    }\n",
       "\n",
       "    .dataframe thead th {\n",
       "        text-align: right;\n",
       "    }\n",
       "</style>\n",
       "<table border=\"1\" class=\"dataframe\">\n",
       "  <thead>\n",
       "    <tr style=\"text-align: right;\">\n",
       "      <th></th>\n",
       "      <th>presupuesto</th>\n",
       "      <th>genero</th>\n",
       "      <th>lenguaje</th>\n",
       "      <th>popularidad</th>\n",
       "      <th>productores</th>\n",
       "      <th>pais</th>\n",
       "      <th>ventas</th>\n",
       "      <th>duracion</th>\n",
       "      <th>titulo</th>\n",
       "      <th>puntuacion</th>\n",
       "      <th>n_votos</th>\n",
       "    </tr>\n",
       "  </thead>\n",
       "  <tbody>\n",
       "    <tr>\n",
       "      <th>0</th>\n",
       "      <td>NaN</td>\n",
       "      <td>Comedy</td>\n",
       "      <td>en</td>\n",
       "      <td>8.387519</td>\n",
       "      <td>Sandollar Productions</td>\n",
       "      <td>United States of America</td>\n",
       "      <td>76578911.0</td>\n",
       "      <td>106.0</td>\n",
       "      <td>Father of the Bride Part II</td>\n",
       "      <td>5.7</td>\n",
       "      <td>173.0</td>\n",
       "    </tr>\n",
       "    <tr>\n",
       "      <th>1</th>\n",
       "      <td>NaN</td>\n",
       "      <td>Drama</td>\n",
       "      <td>en</td>\n",
       "      <td>0.894647</td>\n",
       "      <td>Miramax</td>\n",
       "      <td>South Africa</td>\n",
       "      <td>676525.0</td>\n",
       "      <td>106.0</td>\n",
       "      <td>Cry, the Beloved Country</td>\n",
       "      <td>6.7</td>\n",
       "      <td>13.0</td>\n",
       "    </tr>\n",
       "    <tr>\n",
       "      <th>2</th>\n",
       "      <td>3500000.0</td>\n",
       "      <td>Comedy</td>\n",
       "      <td>en</td>\n",
       "      <td>14.569650</td>\n",
       "      <td>New Line Cinema</td>\n",
       "      <td>United States of America</td>\n",
       "      <td>28215918.0</td>\n",
       "      <td>91.0</td>\n",
       "      <td>Friday</td>\n",
       "      <td>7.0</td>\n",
       "      <td>513.0</td>\n",
       "    </tr>\n",
       "    <tr>\n",
       "      <th>3</th>\n",
       "      <td>NaN</td>\n",
       "      <td>Comedy</td>\n",
       "      <td>en</td>\n",
       "      <td>8.963037</td>\n",
       "      <td>Paramount Pictures</td>\n",
       "      <td>United States of America</td>\n",
       "      <td>32.0</td>\n",
       "      <td>87.0</td>\n",
       "      <td>Black Sheep</td>\n",
       "      <td>6.0</td>\n",
       "      <td>124.0</td>\n",
       "    </tr>\n",
       "    <tr>\n",
       "      <th>4</th>\n",
       "      <td>12000000.0</td>\n",
       "      <td>Comedy</td>\n",
       "      <td>en</td>\n",
       "      <td>9.592265</td>\n",
       "      <td>Universal Pictures</td>\n",
       "      <td>United States of America</td>\n",
       "      <td>41205099.0</td>\n",
       "      <td>92.0</td>\n",
       "      <td>Happy Gilmore</td>\n",
       "      <td>6.5</td>\n",
       "      <td>767.0</td>\n",
       "    </tr>\n",
       "  </tbody>\n",
       "</table>\n",
       "</div>"
      ],
      "text/plain": [
       "   presupuesto  genero lenguaje  popularidad            productores  \\\n",
       "0          NaN  Comedy       en     8.387519  Sandollar Productions   \n",
       "1          NaN   Drama       en     0.894647                Miramax   \n",
       "2    3500000.0  Comedy       en    14.569650        New Line Cinema   \n",
       "3          NaN  Comedy       en     8.963037     Paramount Pictures   \n",
       "4   12000000.0  Comedy       en     9.592265     Universal Pictures   \n",
       "\n",
       "                       pais      ventas  duracion  \\\n",
       "0  United States of America  76578911.0     106.0   \n",
       "1              South Africa    676525.0     106.0   \n",
       "2  United States of America  28215918.0      91.0   \n",
       "3  United States of America        32.0      87.0   \n",
       "4  United States of America  41205099.0      92.0   \n",
       "\n",
       "                        titulo  puntuacion  n_votos  \n",
       "0  Father of the Bride Part II         5.7    173.0  \n",
       "1     Cry, the Beloved Country         6.7     13.0  \n",
       "2                       Friday         7.0    513.0  \n",
       "3                  Black Sheep         6.0    124.0  \n",
       "4                Happy Gilmore         6.5    767.0  "
      ]
     },
     "execution_count": 21,
     "metadata": {},
     "output_type": "execute_result"
    }
   ],
   "source": [
    "pelis = pd.read_csv(\"data/movies.csv\")\n",
    "pelis.head()"
   ]
  },
  {
   "cell_type": "code",
   "execution_count": 22,
   "metadata": {
    "collapsed": true
   },
   "outputs": [],
   "source": [
    "independientes = pelis.select_dtypes([np.int64, np.float64])\n",
    "dependiente = pelis[\"ventas\"]"
   ]
  },
  {
   "cell_type": "code",
   "execution_count": 23,
   "metadata": {},
   "outputs": [
    {
     "data": {
      "text/html": [
       "<div>\n",
       "<style scoped>\n",
       "    .dataframe tbody tr th:only-of-type {\n",
       "        vertical-align: middle;\n",
       "    }\n",
       "\n",
       "    .dataframe tbody tr th {\n",
       "        vertical-align: top;\n",
       "    }\n",
       "\n",
       "    .dataframe thead th {\n",
       "        text-align: right;\n",
       "    }\n",
       "</style>\n",
       "<table border=\"1\" class=\"dataframe\">\n",
       "  <thead>\n",
       "    <tr style=\"text-align: right;\">\n",
       "      <th></th>\n",
       "      <th>presupuesto</th>\n",
       "      <th>popularidad</th>\n",
       "      <th>duracion</th>\n",
       "      <th>puntuacion</th>\n",
       "      <th>n_votos</th>\n",
       "    </tr>\n",
       "  </thead>\n",
       "  <tbody>\n",
       "    <tr>\n",
       "      <th>0</th>\n",
       "      <td>0.0</td>\n",
       "      <td>8.387519</td>\n",
       "      <td>106.0</td>\n",
       "      <td>5.7</td>\n",
       "      <td>173.0</td>\n",
       "    </tr>\n",
       "    <tr>\n",
       "      <th>1</th>\n",
       "      <td>0.0</td>\n",
       "      <td>0.894647</td>\n",
       "      <td>106.0</td>\n",
       "      <td>6.7</td>\n",
       "      <td>13.0</td>\n",
       "    </tr>\n",
       "    <tr>\n",
       "      <th>2</th>\n",
       "      <td>3500000.0</td>\n",
       "      <td>14.569650</td>\n",
       "      <td>91.0</td>\n",
       "      <td>7.0</td>\n",
       "      <td>513.0</td>\n",
       "    </tr>\n",
       "    <tr>\n",
       "      <th>3</th>\n",
       "      <td>0.0</td>\n",
       "      <td>8.963037</td>\n",
       "      <td>87.0</td>\n",
       "      <td>6.0</td>\n",
       "      <td>124.0</td>\n",
       "    </tr>\n",
       "    <tr>\n",
       "      <th>4</th>\n",
       "      <td>12000000.0</td>\n",
       "      <td>9.592265</td>\n",
       "      <td>92.0</td>\n",
       "      <td>6.5</td>\n",
       "      <td>767.0</td>\n",
       "    </tr>\n",
       "  </tbody>\n",
       "</table>\n",
       "</div>"
      ],
      "text/plain": [
       "   presupuesto  popularidad  duracion  puntuacion  n_votos\n",
       "0          0.0     8.387519     106.0         5.7    173.0\n",
       "1          0.0     0.894647     106.0         6.7     13.0\n",
       "2    3500000.0    14.569650      91.0         7.0    513.0\n",
       "3          0.0     8.963037      87.0         6.0    124.0\n",
       "4   12000000.0     9.592265      92.0         6.5    767.0"
      ]
     },
     "execution_count": 23,
     "metadata": {},
     "output_type": "execute_result"
    }
   ],
   "source": [
    "independientes = independientes.fillna(0.000)\n",
    "independientes = independientes.drop(\"ventas\",axis=1)\n",
    "independientes.head()"
   ]
  },
  {
   "cell_type": "code",
   "execution_count": 24,
   "metadata": {},
   "outputs": [
    {
     "data": {
      "text/plain": [
       "0    76578911.0\n",
       "1      676525.0\n",
       "2    28215918.0\n",
       "3          32.0\n",
       "4    41205099.0\n",
       "Name: ventas, dtype: float64"
      ]
     },
     "execution_count": 24,
     "metadata": {},
     "output_type": "execute_result"
    }
   ],
   "source": [
    "dependiente=dependiente.fillna(0.000)\n",
    "dependiente.head()"
   ]
  },
  {
   "cell_type": "code",
   "execution_count": 25,
   "metadata": {
    "collapsed": true
   },
   "outputs": [],
   "source": [
    "from sklearn.linear_model import LinearRegression"
   ]
  },
  {
   "cell_type": "code",
   "execution_count": 26,
   "metadata": {
    "collapsed": true
   },
   "outputs": [],
   "source": [
    "modelo = LinearRegression()"
   ]
  },
  {
   "cell_type": "code",
   "execution_count": 27,
   "metadata": {},
   "outputs": [
    {
     "data": {
      "text/plain": [
       "LinearRegression(copy_X=True, fit_intercept=True, n_jobs=None, normalize=False)"
      ]
     },
     "execution_count": 27,
     "metadata": {},
     "output_type": "execute_result"
    }
   ],
   "source": [
    "modelo.fit(X=independientes, y=dependiente)"
   ]
  },
  {
   "cell_type": "code",
   "execution_count": 28,
   "metadata": {},
   "outputs": [
    {
     "data": {
      "text/plain": [
       "array([ 1.22672729e+00, -2.86142080e+05,  4.67832938e+04,  5.69634155e+05,\n",
       "        6.68386505e+04])"
      ]
     },
     "execution_count": 28,
     "metadata": {},
     "output_type": "execute_result"
    }
   ],
   "source": [
    "modelo.coef_"
   ]
  },
  {
   "cell_type": "code",
   "execution_count": 29,
   "metadata": {
    "collapsed": true
   },
   "outputs": [],
   "source": [
    "pelis[\"ventas_pred\"]=modelo.predict(independientes)"
   ]
  },
  {
   "cell_type": "code",
   "execution_count": 30,
   "metadata": {
    "collapsed": true
   },
   "outputs": [],
   "source": [
    "from sklearn import metrics"
   ]
  },
  {
   "cell_type": "markdown",
   "metadata": {},
   "source": [
    "Error cuadrático absoluto"
   ]
  },
  {
   "cell_type": "code",
   "execution_count": 31,
   "metadata": {},
   "outputs": [
    {
     "data": {
      "text/plain": [
       "19591911.253283627"
      ]
     },
     "execution_count": 31,
     "metadata": {},
     "output_type": "execute_result"
    }
   ],
   "source": [
    "metrics.mean_absolute_error(pelis[\"ventas\"].fillna(0),pelis[\"ventas_pred\"])"
   ]
  },
  {
   "cell_type": "markdown",
   "metadata": {},
   "source": [
    "Raiz error cuadrático medio"
   ]
  },
  {
   "cell_type": "code",
   "execution_count": 32,
   "metadata": {},
   "outputs": [
    {
     "data": {
      "text/plain": [
       "38585408.5258714"
      ]
     },
     "execution_count": 32,
     "metadata": {},
     "output_type": "execute_result"
    }
   ],
   "source": [
    "np.sqrt(metrics.mean_squared_error(pelis[\"ventas\"].fillna(0),pelis[\"ventas_pred\"]))"
   ]
  },
  {
   "cell_type": "markdown",
   "metadata": {},
   "source": [
    "Coeficiente de determinación"
   ]
  },
  {
   "cell_type": "code",
   "execution_count": 33,
   "metadata": {},
   "outputs": [
    {
     "data": {
      "text/plain": [
       "0.6048308921923047"
      ]
     },
     "execution_count": 33,
     "metadata": {},
     "output_type": "execute_result"
    }
   ],
   "source": [
    "metrics.r2_score(pelis[\"ventas\"].fillna(0),pelis[\"ventas_pred\"])"
   ]
  },
  {
   "cell_type": "markdown",
   "metadata": {},
   "source": [
    "## K vecinos más próximos (KNN)"
   ]
  },
  {
   "cell_type": "code",
   "execution_count": 34,
   "metadata": {},
   "outputs": [
    {
     "data": {
      "text/plain": [
       "dict_keys(['data', 'target', 'target_names', 'DESCR', 'feature_names', 'filename'])"
      ]
     },
     "execution_count": 34,
     "metadata": {},
     "output_type": "execute_result"
    }
   ],
   "source": [
    "from sklearn import datasets\n",
    "cancer_datos = datasets.load_breast_cancer()\n",
    "cancer_datos.keys()"
   ]
  },
  {
   "cell_type": "code",
   "execution_count": 35,
   "metadata": {
    "collapsed": true
   },
   "outputs": [],
   "source": [
    "cancer_df = pd.DataFrame(cancer_datos[\"data\"],\n",
    "                           columns=cancer_datos[\"feature_names\"]\n",
    "                          )\n",
    "\n",
    "cancer_df[\"objetivo\"] = cancer_datos.target"
   ]
  },
  {
   "cell_type": "code",
   "execution_count": 36,
   "metadata": {},
   "outputs": [
    {
     "data": {
      "text/html": [
       "<div>\n",
       "<style scoped>\n",
       "    .dataframe tbody tr th:only-of-type {\n",
       "        vertical-align: middle;\n",
       "    }\n",
       "\n",
       "    .dataframe tbody tr th {\n",
       "        vertical-align: top;\n",
       "    }\n",
       "\n",
       "    .dataframe thead th {\n",
       "        text-align: right;\n",
       "    }\n",
       "</style>\n",
       "<table border=\"1\" class=\"dataframe\">\n",
       "  <thead>\n",
       "    <tr style=\"text-align: right;\">\n",
       "      <th></th>\n",
       "      <th>mean radius</th>\n",
       "      <th>mean texture</th>\n",
       "      <th>mean perimeter</th>\n",
       "      <th>mean area</th>\n",
       "      <th>mean smoothness</th>\n",
       "      <th>mean compactness</th>\n",
       "      <th>mean concavity</th>\n",
       "      <th>mean concave points</th>\n",
       "      <th>mean symmetry</th>\n",
       "      <th>mean fractal dimension</th>\n",
       "      <th>...</th>\n",
       "      <th>worst texture</th>\n",
       "      <th>worst perimeter</th>\n",
       "      <th>worst area</th>\n",
       "      <th>worst smoothness</th>\n",
       "      <th>worst compactness</th>\n",
       "      <th>worst concavity</th>\n",
       "      <th>worst concave points</th>\n",
       "      <th>worst symmetry</th>\n",
       "      <th>worst fractal dimension</th>\n",
       "      <th>objetivo</th>\n",
       "    </tr>\n",
       "  </thead>\n",
       "  <tbody>\n",
       "    <tr>\n",
       "      <th>0</th>\n",
       "      <td>17.99</td>\n",
       "      <td>10.38</td>\n",
       "      <td>122.80</td>\n",
       "      <td>1001.0</td>\n",
       "      <td>0.11840</td>\n",
       "      <td>0.27760</td>\n",
       "      <td>0.3001</td>\n",
       "      <td>0.14710</td>\n",
       "      <td>0.2419</td>\n",
       "      <td>0.07871</td>\n",
       "      <td>...</td>\n",
       "      <td>17.33</td>\n",
       "      <td>184.60</td>\n",
       "      <td>2019.0</td>\n",
       "      <td>0.1622</td>\n",
       "      <td>0.6656</td>\n",
       "      <td>0.7119</td>\n",
       "      <td>0.2654</td>\n",
       "      <td>0.4601</td>\n",
       "      <td>0.11890</td>\n",
       "      <td>0</td>\n",
       "    </tr>\n",
       "    <tr>\n",
       "      <th>1</th>\n",
       "      <td>20.57</td>\n",
       "      <td>17.77</td>\n",
       "      <td>132.90</td>\n",
       "      <td>1326.0</td>\n",
       "      <td>0.08474</td>\n",
       "      <td>0.07864</td>\n",
       "      <td>0.0869</td>\n",
       "      <td>0.07017</td>\n",
       "      <td>0.1812</td>\n",
       "      <td>0.05667</td>\n",
       "      <td>...</td>\n",
       "      <td>23.41</td>\n",
       "      <td>158.80</td>\n",
       "      <td>1956.0</td>\n",
       "      <td>0.1238</td>\n",
       "      <td>0.1866</td>\n",
       "      <td>0.2416</td>\n",
       "      <td>0.1860</td>\n",
       "      <td>0.2750</td>\n",
       "      <td>0.08902</td>\n",
       "      <td>0</td>\n",
       "    </tr>\n",
       "    <tr>\n",
       "      <th>2</th>\n",
       "      <td>19.69</td>\n",
       "      <td>21.25</td>\n",
       "      <td>130.00</td>\n",
       "      <td>1203.0</td>\n",
       "      <td>0.10960</td>\n",
       "      <td>0.15990</td>\n",
       "      <td>0.1974</td>\n",
       "      <td>0.12790</td>\n",
       "      <td>0.2069</td>\n",
       "      <td>0.05999</td>\n",
       "      <td>...</td>\n",
       "      <td>25.53</td>\n",
       "      <td>152.50</td>\n",
       "      <td>1709.0</td>\n",
       "      <td>0.1444</td>\n",
       "      <td>0.4245</td>\n",
       "      <td>0.4504</td>\n",
       "      <td>0.2430</td>\n",
       "      <td>0.3613</td>\n",
       "      <td>0.08758</td>\n",
       "      <td>0</td>\n",
       "    </tr>\n",
       "    <tr>\n",
       "      <th>3</th>\n",
       "      <td>11.42</td>\n",
       "      <td>20.38</td>\n",
       "      <td>77.58</td>\n",
       "      <td>386.1</td>\n",
       "      <td>0.14250</td>\n",
       "      <td>0.28390</td>\n",
       "      <td>0.2414</td>\n",
       "      <td>0.10520</td>\n",
       "      <td>0.2597</td>\n",
       "      <td>0.09744</td>\n",
       "      <td>...</td>\n",
       "      <td>26.50</td>\n",
       "      <td>98.87</td>\n",
       "      <td>567.7</td>\n",
       "      <td>0.2098</td>\n",
       "      <td>0.8663</td>\n",
       "      <td>0.6869</td>\n",
       "      <td>0.2575</td>\n",
       "      <td>0.6638</td>\n",
       "      <td>0.17300</td>\n",
       "      <td>0</td>\n",
       "    </tr>\n",
       "    <tr>\n",
       "      <th>4</th>\n",
       "      <td>20.29</td>\n",
       "      <td>14.34</td>\n",
       "      <td>135.10</td>\n",
       "      <td>1297.0</td>\n",
       "      <td>0.10030</td>\n",
       "      <td>0.13280</td>\n",
       "      <td>0.1980</td>\n",
       "      <td>0.10430</td>\n",
       "      <td>0.1809</td>\n",
       "      <td>0.05883</td>\n",
       "      <td>...</td>\n",
       "      <td>16.67</td>\n",
       "      <td>152.20</td>\n",
       "      <td>1575.0</td>\n",
       "      <td>0.1374</td>\n",
       "      <td>0.2050</td>\n",
       "      <td>0.4000</td>\n",
       "      <td>0.1625</td>\n",
       "      <td>0.2364</td>\n",
       "      <td>0.07678</td>\n",
       "      <td>0</td>\n",
       "    </tr>\n",
       "  </tbody>\n",
       "</table>\n",
       "<p>5 rows × 31 columns</p>\n",
       "</div>"
      ],
      "text/plain": [
       "   mean radius  mean texture  mean perimeter  mean area  mean smoothness  \\\n",
       "0        17.99         10.38          122.80     1001.0          0.11840   \n",
       "1        20.57         17.77          132.90     1326.0          0.08474   \n",
       "2        19.69         21.25          130.00     1203.0          0.10960   \n",
       "3        11.42         20.38           77.58      386.1          0.14250   \n",
       "4        20.29         14.34          135.10     1297.0          0.10030   \n",
       "\n",
       "   mean compactness  mean concavity  mean concave points  mean symmetry  \\\n",
       "0           0.27760          0.3001              0.14710         0.2419   \n",
       "1           0.07864          0.0869              0.07017         0.1812   \n",
       "2           0.15990          0.1974              0.12790         0.2069   \n",
       "3           0.28390          0.2414              0.10520         0.2597   \n",
       "4           0.13280          0.1980              0.10430         0.1809   \n",
       "\n",
       "   mean fractal dimension  ...  worst texture  worst perimeter  worst area  \\\n",
       "0                 0.07871  ...          17.33           184.60      2019.0   \n",
       "1                 0.05667  ...          23.41           158.80      1956.0   \n",
       "2                 0.05999  ...          25.53           152.50      1709.0   \n",
       "3                 0.09744  ...          26.50            98.87       567.7   \n",
       "4                 0.05883  ...          16.67           152.20      1575.0   \n",
       "\n",
       "   worst smoothness  worst compactness  worst concavity  worst concave points  \\\n",
       "0            0.1622             0.6656           0.7119                0.2654   \n",
       "1            0.1238             0.1866           0.2416                0.1860   \n",
       "2            0.1444             0.4245           0.4504                0.2430   \n",
       "3            0.2098             0.8663           0.6869                0.2575   \n",
       "4            0.1374             0.2050           0.4000                0.1625   \n",
       "\n",
       "   worst symmetry  worst fractal dimension  objetivo  \n",
       "0          0.4601                  0.11890         0  \n",
       "1          0.2750                  0.08902         0  \n",
       "2          0.3613                  0.08758         0  \n",
       "3          0.6638                  0.17300         0  \n",
       "4          0.2364                  0.07678         0  \n",
       "\n",
       "[5 rows x 31 columns]"
      ]
     },
     "execution_count": 36,
     "metadata": {},
     "output_type": "execute_result"
    }
   ],
   "source": [
    "cancer_df.head()"
   ]
  },
  {
   "cell_type": "code",
   "execution_count": 37,
   "metadata": {
    "collapsed": true
   },
   "outputs": [],
   "source": [
    "variable_objetivo = \"objetivo\""
   ]
  },
  {
   "cell_type": "code",
   "execution_count": 38,
   "metadata": {
    "collapsed": true
   },
   "outputs": [],
   "source": [
    "from sklearn.neighbors import KNeighborsClassifier, KNeighborsRegressor\n",
    "from sklearn.model_selection import train_test_split\n",
    "from sklearn.metrics import f1_score"
   ]
  },
  {
   "cell_type": "code",
   "execution_count": 39,
   "metadata": {
    "collapsed": true
   },
   "outputs": [],
   "source": [
    "variables_independientes = cancer_df.drop(variable_objetivo,axis=1).columns"
   ]
  },
  {
   "cell_type": "code",
   "execution_count": 40,
   "metadata": {},
   "outputs": [
    {
     "data": {
      "text/plain": [
       "Index(['mean radius', 'mean texture', 'mean perimeter', 'mean area',\n",
       "       'mean smoothness', 'mean compactness', 'mean concavity',\n",
       "       'mean concave points', 'mean symmetry', 'mean fractal dimension',\n",
       "       'radius error', 'texture error', 'perimeter error', 'area error',\n",
       "       'smoothness error', 'compactness error', 'concavity error',\n",
       "       'concave points error', 'symmetry error', 'fractal dimension error',\n",
       "       'worst radius', 'worst texture', 'worst perimeter', 'worst area',\n",
       "       'worst smoothness', 'worst compactness', 'worst concavity',\n",
       "       'worst concave points', 'worst symmetry', 'worst fractal dimension'],\n",
       "      dtype='object')"
      ]
     },
     "execution_count": 40,
     "metadata": {},
     "output_type": "execute_result"
    }
   ],
   "source": [
    "variables_independientes"
   ]
  },
  {
   "cell_type": "code",
   "execution_count": 41,
   "metadata": {
    "collapsed": true
   },
   "outputs": [],
   "source": [
    "modelo = KNeighborsClassifier()"
   ]
  },
  {
   "cell_type": "code",
   "execution_count": 42,
   "metadata": {},
   "outputs": [
    {
     "name": "stderr",
     "output_type": "stream",
     "text": [
      "/home/manumonforte/anaconda3/lib/python3.6/site-packages/sklearn/model_selection/_split.py:1978: FutureWarning: The default value of cv will change from 3 to 5 in version 0.22. Specify it explicitly to silence this warning.\n",
      "  warnings.warn(CV_WARNING, FutureWarning)\n"
     ]
    },
    {
     "data": {
      "text/plain": [
       "0.9574438225994624"
      ]
     },
     "execution_count": 42,
     "metadata": {},
     "output_type": "execute_result"
    }
   ],
   "source": [
    "from sklearn.model_selection import cross_val_score\n",
    "cross_val_score(modelo,\n",
    "               X = cancer_df[variables_independientes],\n",
    "               y=cancer_df[variable_objetivo],\n",
    "               scoring=\"roc_auc\").mean()"
   ]
  },
  {
   "cell_type": "markdown",
   "metadata": {},
   "source": [
    "## Árboles de decisión"
   ]
  },
  {
   "cell_type": "code",
   "execution_count": 43,
   "metadata": {
    "collapsed": true
   },
   "outputs": [],
   "source": [
    "from sklearn import tree"
   ]
  },
  {
   "cell_type": "code",
   "execution_count": 44,
   "metadata": {},
   "outputs": [
    {
     "data": {
      "text/html": [
       "<div>\n",
       "<style scoped>\n",
       "    .dataframe tbody tr th:only-of-type {\n",
       "        vertical-align: middle;\n",
       "    }\n",
       "\n",
       "    .dataframe tbody tr th {\n",
       "        vertical-align: top;\n",
       "    }\n",
       "\n",
       "    .dataframe thead th {\n",
       "        text-align: right;\n",
       "    }\n",
       "</style>\n",
       "<table border=\"1\" class=\"dataframe\">\n",
       "  <thead>\n",
       "    <tr style=\"text-align: right;\">\n",
       "      <th></th>\n",
       "      <th>presupuesto</th>\n",
       "      <th>genero</th>\n",
       "      <th>lenguaje</th>\n",
       "      <th>popularidad</th>\n",
       "      <th>productores</th>\n",
       "      <th>pais</th>\n",
       "      <th>ventas</th>\n",
       "      <th>duracion</th>\n",
       "      <th>puntuacion</th>\n",
       "      <th>n_votos</th>\n",
       "    </tr>\n",
       "  </thead>\n",
       "  <tbody>\n",
       "    <tr>\n",
       "      <th>0</th>\n",
       "      <td>NaN</td>\n",
       "      <td>Comedy</td>\n",
       "      <td>en</td>\n",
       "      <td>8.387519</td>\n",
       "      <td>Sandollar Productions</td>\n",
       "      <td>United States of America</td>\n",
       "      <td>76578911.0</td>\n",
       "      <td>106.0</td>\n",
       "      <td>5.7</td>\n",
       "      <td>173.0</td>\n",
       "    </tr>\n",
       "    <tr>\n",
       "      <th>1</th>\n",
       "      <td>NaN</td>\n",
       "      <td>Drama</td>\n",
       "      <td>en</td>\n",
       "      <td>0.894647</td>\n",
       "      <td>Miramax</td>\n",
       "      <td>South Africa</td>\n",
       "      <td>676525.0</td>\n",
       "      <td>106.0</td>\n",
       "      <td>6.7</td>\n",
       "      <td>13.0</td>\n",
       "    </tr>\n",
       "    <tr>\n",
       "      <th>2</th>\n",
       "      <td>3500000.0</td>\n",
       "      <td>Comedy</td>\n",
       "      <td>en</td>\n",
       "      <td>14.569650</td>\n",
       "      <td>New Line Cinema</td>\n",
       "      <td>United States of America</td>\n",
       "      <td>28215918.0</td>\n",
       "      <td>91.0</td>\n",
       "      <td>7.0</td>\n",
       "      <td>513.0</td>\n",
       "    </tr>\n",
       "    <tr>\n",
       "      <th>3</th>\n",
       "      <td>NaN</td>\n",
       "      <td>Comedy</td>\n",
       "      <td>en</td>\n",
       "      <td>8.963037</td>\n",
       "      <td>Paramount Pictures</td>\n",
       "      <td>United States of America</td>\n",
       "      <td>32.0</td>\n",
       "      <td>87.0</td>\n",
       "      <td>6.0</td>\n",
       "      <td>124.0</td>\n",
       "    </tr>\n",
       "    <tr>\n",
       "      <th>4</th>\n",
       "      <td>12000000.0</td>\n",
       "      <td>Comedy</td>\n",
       "      <td>en</td>\n",
       "      <td>9.592265</td>\n",
       "      <td>Universal Pictures</td>\n",
       "      <td>United States of America</td>\n",
       "      <td>41205099.0</td>\n",
       "      <td>92.0</td>\n",
       "      <td>6.5</td>\n",
       "      <td>767.0</td>\n",
       "    </tr>\n",
       "  </tbody>\n",
       "</table>\n",
       "</div>"
      ],
      "text/plain": [
       "   presupuesto  genero lenguaje  popularidad            productores  \\\n",
       "0          NaN  Comedy       en     8.387519  Sandollar Productions   \n",
       "1          NaN   Drama       en     0.894647                Miramax   \n",
       "2    3500000.0  Comedy       en    14.569650        New Line Cinema   \n",
       "3          NaN  Comedy       en     8.963037     Paramount Pictures   \n",
       "4   12000000.0  Comedy       en     9.592265     Universal Pictures   \n",
       "\n",
       "                       pais      ventas  duracion  puntuacion  n_votos  \n",
       "0  United States of America  76578911.0     106.0         5.7    173.0  \n",
       "1              South Africa    676525.0     106.0         6.7     13.0  \n",
       "2  United States of America  28215918.0      91.0         7.0    513.0  \n",
       "3  United States of America        32.0      87.0         6.0    124.0  \n",
       "4  United States of America  41205099.0      92.0         6.5    767.0  "
      ]
     },
     "execution_count": 44,
     "metadata": {},
     "output_type": "execute_result"
    }
   ],
   "source": [
    "pelis = pd.read_csv(\"data/movies.csv\").drop(\"titulo\",axis=1)\n",
    "variable_objetivo = \"ventas\"\n",
    "\n",
    "# hay peliculas sin la variable ventas\n",
    "pelis = pelis[pelis[variable_objetivo].notnull()]\n",
    "\n",
    "variables_independientes = pelis.drop(variable_objetivo, axis=1).columns\n",
    "\n",
    "\n",
    "pelis.head()"
   ]
  },
  {
   "cell_type": "markdown",
   "metadata": {},
   "source": [
    "Vamos a hacer codificacion one hot de las variables categóricas usando el OneHotEncoder de category_encoders:"
   ]
  },
  {
   "cell_type": "code",
   "execution_count": 45,
   "metadata": {},
   "outputs": [
    {
     "data": {
      "text/html": [
       "<div>\n",
       "<style scoped>\n",
       "    .dataframe tbody tr th:only-of-type {\n",
       "        vertical-align: middle;\n",
       "    }\n",
       "\n",
       "    .dataframe tbody tr th {\n",
       "        vertical-align: top;\n",
       "    }\n",
       "\n",
       "    .dataframe thead th {\n",
       "        text-align: right;\n",
       "    }\n",
       "</style>\n",
       "<table border=\"1\" class=\"dataframe\">\n",
       "  <thead>\n",
       "    <tr style=\"text-align: right;\">\n",
       "      <th></th>\n",
       "      <th>presupuesto</th>\n",
       "      <th>genero_1</th>\n",
       "      <th>genero_2</th>\n",
       "      <th>genero_3</th>\n",
       "      <th>genero_4</th>\n",
       "      <th>genero_5</th>\n",
       "      <th>genero_6</th>\n",
       "      <th>genero_7</th>\n",
       "      <th>genero_8</th>\n",
       "      <th>genero_9</th>\n",
       "      <th>...</th>\n",
       "      <th>pais_28</th>\n",
       "      <th>pais_29</th>\n",
       "      <th>pais_30</th>\n",
       "      <th>pais_31</th>\n",
       "      <th>pais_32</th>\n",
       "      <th>pais_33</th>\n",
       "      <th>ventas</th>\n",
       "      <th>duracion</th>\n",
       "      <th>puntuacion</th>\n",
       "      <th>n_votos</th>\n",
       "    </tr>\n",
       "  </thead>\n",
       "  <tbody>\n",
       "    <tr>\n",
       "      <th>0</th>\n",
       "      <td>NaN</td>\n",
       "      <td>1</td>\n",
       "      <td>0</td>\n",
       "      <td>0</td>\n",
       "      <td>0</td>\n",
       "      <td>0</td>\n",
       "      <td>0</td>\n",
       "      <td>0</td>\n",
       "      <td>0</td>\n",
       "      <td>0</td>\n",
       "      <td>...</td>\n",
       "      <td>0</td>\n",
       "      <td>0</td>\n",
       "      <td>0</td>\n",
       "      <td>0</td>\n",
       "      <td>0</td>\n",
       "      <td>0</td>\n",
       "      <td>76578911.0</td>\n",
       "      <td>106.0</td>\n",
       "      <td>5.7</td>\n",
       "      <td>173.0</td>\n",
       "    </tr>\n",
       "    <tr>\n",
       "      <th>1</th>\n",
       "      <td>NaN</td>\n",
       "      <td>0</td>\n",
       "      <td>1</td>\n",
       "      <td>0</td>\n",
       "      <td>0</td>\n",
       "      <td>0</td>\n",
       "      <td>0</td>\n",
       "      <td>0</td>\n",
       "      <td>0</td>\n",
       "      <td>0</td>\n",
       "      <td>...</td>\n",
       "      <td>0</td>\n",
       "      <td>0</td>\n",
       "      <td>0</td>\n",
       "      <td>0</td>\n",
       "      <td>0</td>\n",
       "      <td>0</td>\n",
       "      <td>676525.0</td>\n",
       "      <td>106.0</td>\n",
       "      <td>6.7</td>\n",
       "      <td>13.0</td>\n",
       "    </tr>\n",
       "    <tr>\n",
       "      <th>2</th>\n",
       "      <td>3500000.0</td>\n",
       "      <td>1</td>\n",
       "      <td>0</td>\n",
       "      <td>0</td>\n",
       "      <td>0</td>\n",
       "      <td>0</td>\n",
       "      <td>0</td>\n",
       "      <td>0</td>\n",
       "      <td>0</td>\n",
       "      <td>0</td>\n",
       "      <td>...</td>\n",
       "      <td>0</td>\n",
       "      <td>0</td>\n",
       "      <td>0</td>\n",
       "      <td>0</td>\n",
       "      <td>0</td>\n",
       "      <td>0</td>\n",
       "      <td>28215918.0</td>\n",
       "      <td>91.0</td>\n",
       "      <td>7.0</td>\n",
       "      <td>513.0</td>\n",
       "    </tr>\n",
       "    <tr>\n",
       "      <th>3</th>\n",
       "      <td>NaN</td>\n",
       "      <td>1</td>\n",
       "      <td>0</td>\n",
       "      <td>0</td>\n",
       "      <td>0</td>\n",
       "      <td>0</td>\n",
       "      <td>0</td>\n",
       "      <td>0</td>\n",
       "      <td>0</td>\n",
       "      <td>0</td>\n",
       "      <td>...</td>\n",
       "      <td>0</td>\n",
       "      <td>0</td>\n",
       "      <td>0</td>\n",
       "      <td>0</td>\n",
       "      <td>0</td>\n",
       "      <td>0</td>\n",
       "      <td>32.0</td>\n",
       "      <td>87.0</td>\n",
       "      <td>6.0</td>\n",
       "      <td>124.0</td>\n",
       "    </tr>\n",
       "    <tr>\n",
       "      <th>4</th>\n",
       "      <td>12000000.0</td>\n",
       "      <td>1</td>\n",
       "      <td>0</td>\n",
       "      <td>0</td>\n",
       "      <td>0</td>\n",
       "      <td>0</td>\n",
       "      <td>0</td>\n",
       "      <td>0</td>\n",
       "      <td>0</td>\n",
       "      <td>0</td>\n",
       "      <td>...</td>\n",
       "      <td>0</td>\n",
       "      <td>0</td>\n",
       "      <td>0</td>\n",
       "      <td>0</td>\n",
       "      <td>0</td>\n",
       "      <td>0</td>\n",
       "      <td>41205099.0</td>\n",
       "      <td>92.0</td>\n",
       "      <td>6.5</td>\n",
       "      <td>767.0</td>\n",
       "    </tr>\n",
       "  </tbody>\n",
       "</table>\n",
       "<p>5 rows × 641 columns</p>\n",
       "</div>"
      ],
      "text/plain": [
       "   presupuesto  genero_1  genero_2  genero_3  genero_4  genero_5  genero_6  \\\n",
       "0          NaN         1         0         0         0         0         0   \n",
       "1          NaN         0         1         0         0         0         0   \n",
       "2    3500000.0         1         0         0         0         0         0   \n",
       "3          NaN         1         0         0         0         0         0   \n",
       "4   12000000.0         1         0         0         0         0         0   \n",
       "\n",
       "   genero_7  genero_8  genero_9  ...  pais_28  pais_29  pais_30  pais_31  \\\n",
       "0         0         0         0  ...        0        0        0        0   \n",
       "1         0         0         0  ...        0        0        0        0   \n",
       "2         0         0         0  ...        0        0        0        0   \n",
       "3         0         0         0  ...        0        0        0        0   \n",
       "4         0         0         0  ...        0        0        0        0   \n",
       "\n",
       "   pais_32  pais_33      ventas  duracion  puntuacion  n_votos  \n",
       "0        0        0  76578911.0     106.0         5.7    173.0  \n",
       "1        0        0    676525.0     106.0         6.7     13.0  \n",
       "2        0        0  28215918.0      91.0         7.0    513.0  \n",
       "3        0        0        32.0      87.0         6.0    124.0  \n",
       "4        0        0  41205099.0      92.0         6.5    767.0  \n",
       "\n",
       "[5 rows x 641 columns]"
      ]
     },
     "execution_count": 45,
     "metadata": {},
     "output_type": "execute_result"
    }
   ],
   "source": [
    "from category_encoders import OneHotEncoder\n",
    "\n",
    "pelis = OneHotEncoder().fit_transform(pelis)\n",
    "pelis.head()"
   ]
  },
  {
   "cell_type": "code",
   "execution_count": 46,
   "metadata": {},
   "outputs": [
    {
     "name": "stderr",
     "output_type": "stream",
     "text": [
      "/home/manumonforte/anaconda3/lib/python3.6/site-packages/sklearn/utils/deprecation.py:66: DeprecationWarning: Class Imputer is deprecated; Imputer was deprecated in version 0.20 and will be removed in 0.22. Import impute.SimpleImputer from sklearn instead.\n",
      "  warnings.warn(msg, category=DeprecationWarning)\n"
     ]
    }
   ],
   "source": [
    "from sklearn.preprocessing import Imputer\n",
    "\n",
    "X = Imputer(strategy=\"mean\").fit_transform(pelis.drop(variable_objetivo, axis=1))\n",
    "y = pelis[variable_objetivo]"
   ]
  },
  {
   "cell_type": "code",
   "execution_count": 51,
   "metadata": {
    "collapsed": true
   },
   "outputs": [],
   "source": [
    "modelo = tree.DecisionTreeRegressor(max_depth=5)"
   ]
  },
  {
   "cell_type": "code",
   "execution_count": 52,
   "metadata": {},
   "outputs": [
    {
     "data": {
      "text/plain": [
       "DecisionTreeRegressor(criterion='mse', max_depth=5, max_features=None,\n",
       "                      max_leaf_nodes=None, min_impurity_decrease=0.0,\n",
       "                      min_impurity_split=None, min_samples_leaf=1,\n",
       "                      min_samples_split=2, min_weight_fraction_leaf=0.0,\n",
       "                      presort=False, random_state=None, splitter='best')"
      ]
     },
     "execution_count": 52,
     "metadata": {},
     "output_type": "execute_result"
    }
   ],
   "source": [
    "modelo.fit(X,y)"
   ]
  },
  {
   "cell_type": "code",
   "execution_count": 54,
   "metadata": {},
   "outputs": [],
   "source": [
    "import graphviz\n",
    "def dibujarArbol(arbol):\n",
    "    data_dot = tree.export_graphviz(\n",
    "        arbol,out_file=None,\n",
    "        feature_names=pelis.drop(\"ventas\",axis=1).columns,\n",
    "        filled=True,\n",
    "        impurity=False,\n",
    "        rounded=True,\n",
    "        special_characters=True)\n",
    "    graph = graphviz.Source(data_dot)\n",
    "    graph.format = 'png'\n",
    "    graph.render('arbol',view = True) \n"
   ]
  },
  {
   "cell_type": "code",
   "execution_count": 60,
   "metadata": {},
   "outputs": [],
   "source": [
    "dibujarArbol(modelo)"
   ]
  },
  {
   "cell_type": "code",
   "execution_count": 50,
   "metadata": {},
   "outputs": [
    {
     "data": {
      "text/plain": [
       "[(0.20000094843094354, 'productores_554'),\n",
       " (0.20000047658854697, 'productores_121'),\n",
       " (0.20000000238098659, 'productores_88'),\n",
       " (0.19999952579247152, 'productores_277'),\n",
       " (0.1999990468070515, 'productores_299'),\n",
       " (0.0, 'puntuacion'),\n",
       " (0.0, 'productores_99'),\n",
       " (0.0, 'productores_98'),\n",
       " (0.0, 'productores_97'),\n",
       " (0.0, 'productores_96'),\n",
       " (0.0, 'productores_95'),\n",
       " (0.0, 'productores_94'),\n",
       " (0.0, 'productores_93'),\n",
       " (0.0, 'productores_92'),\n",
       " (0.0, 'productores_91'),\n",
       " (0.0, 'productores_90'),\n",
       " (0.0, 'productores_9'),\n",
       " (0.0, 'productores_89'),\n",
       " (0.0, 'productores_87'),\n",
       " (0.0, 'productores_86'),\n",
       " (0.0, 'productores_85'),\n",
       " (0.0, 'productores_84'),\n",
       " (0.0, 'productores_83'),\n",
       " (0.0, 'productores_82'),\n",
       " (0.0, 'productores_81'),\n",
       " (0.0, 'productores_80'),\n",
       " (0.0, 'productores_8'),\n",
       " (0.0, 'productores_79'),\n",
       " (0.0, 'productores_78'),\n",
       " (0.0, 'productores_77'),\n",
       " (0.0, 'productores_76'),\n",
       " (0.0, 'productores_75'),\n",
       " (0.0, 'productores_74'),\n",
       " (0.0, 'productores_73'),\n",
       " (0.0, 'productores_72'),\n",
       " (0.0, 'productores_71'),\n",
       " (0.0, 'productores_70'),\n",
       " (0.0, 'productores_7'),\n",
       " (0.0, 'productores_69'),\n",
       " (0.0, 'productores_68'),\n",
       " (0.0, 'productores_67'),\n",
       " (0.0, 'productores_66'),\n",
       " (0.0, 'productores_65'),\n",
       " (0.0, 'productores_64'),\n",
       " (0.0, 'productores_63'),\n",
       " (0.0, 'productores_62'),\n",
       " (0.0, 'productores_61'),\n",
       " (0.0, 'productores_60'),\n",
       " (0.0, 'productores_6'),\n",
       " (0.0, 'productores_59'),\n",
       " (0.0, 'productores_58'),\n",
       " (0.0, 'productores_57'),\n",
       " (0.0, 'productores_56'),\n",
       " (0.0, 'productores_556'),\n",
       " (0.0, 'productores_555'),\n",
       " (0.0, 'productores_553'),\n",
       " (0.0, 'productores_552'),\n",
       " (0.0, 'productores_551'),\n",
       " (0.0, 'productores_550'),\n",
       " (0.0, 'productores_55'),\n",
       " (0.0, 'productores_549'),\n",
       " (0.0, 'productores_548'),\n",
       " (0.0, 'productores_547'),\n",
       " (0.0, 'productores_546'),\n",
       " (0.0, 'productores_545'),\n",
       " (0.0, 'productores_544'),\n",
       " (0.0, 'productores_543'),\n",
       " (0.0, 'productores_542'),\n",
       " (0.0, 'productores_541'),\n",
       " (0.0, 'productores_540'),\n",
       " (0.0, 'productores_54'),\n",
       " (0.0, 'productores_539'),\n",
       " (0.0, 'productores_538'),\n",
       " (0.0, 'productores_537'),\n",
       " (0.0, 'productores_536'),\n",
       " (0.0, 'productores_535'),\n",
       " (0.0, 'productores_534'),\n",
       " (0.0, 'productores_533'),\n",
       " (0.0, 'productores_532'),\n",
       " (0.0, 'productores_531'),\n",
       " (0.0, 'productores_530'),\n",
       " (0.0, 'productores_53'),\n",
       " (0.0, 'productores_529'),\n",
       " (0.0, 'productores_528'),\n",
       " (0.0, 'productores_527'),\n",
       " (0.0, 'productores_526'),\n",
       " (0.0, 'productores_525'),\n",
       " (0.0, 'productores_524'),\n",
       " (0.0, 'productores_523'),\n",
       " (0.0, 'productores_522'),\n",
       " (0.0, 'productores_521'),\n",
       " (0.0, 'productores_520'),\n",
       " (0.0, 'productores_52'),\n",
       " (0.0, 'productores_519'),\n",
       " (0.0, 'productores_518'),\n",
       " (0.0, 'productores_517'),\n",
       " (0.0, 'productores_516'),\n",
       " (0.0, 'productores_515'),\n",
       " (0.0, 'productores_514'),\n",
       " (0.0, 'productores_513'),\n",
       " (0.0, 'productores_512'),\n",
       " (0.0, 'productores_511'),\n",
       " (0.0, 'productores_510'),\n",
       " (0.0, 'productores_51'),\n",
       " (0.0, 'productores_509'),\n",
       " (0.0, 'productores_508'),\n",
       " (0.0, 'productores_507'),\n",
       " (0.0, 'productores_506'),\n",
       " (0.0, 'productores_505'),\n",
       " (0.0, 'productores_504'),\n",
       " (0.0, 'productores_503'),\n",
       " (0.0, 'productores_502'),\n",
       " (0.0, 'productores_501'),\n",
       " (0.0, 'productores_500'),\n",
       " (0.0, 'productores_50'),\n",
       " (0.0, 'productores_5'),\n",
       " (0.0, 'productores_499'),\n",
       " (0.0, 'productores_498'),\n",
       " (0.0, 'productores_497'),\n",
       " (0.0, 'productores_496'),\n",
       " (0.0, 'productores_495'),\n",
       " (0.0, 'productores_494'),\n",
       " (0.0, 'productores_493'),\n",
       " (0.0, 'productores_492'),\n",
       " (0.0, 'productores_491'),\n",
       " (0.0, 'productores_490'),\n",
       " (0.0, 'productores_49'),\n",
       " (0.0, 'productores_489'),\n",
       " (0.0, 'productores_488'),\n",
       " (0.0, 'productores_487'),\n",
       " (0.0, 'productores_486'),\n",
       " (0.0, 'productores_485'),\n",
       " (0.0, 'productores_484'),\n",
       " (0.0, 'productores_483'),\n",
       " (0.0, 'productores_482'),\n",
       " (0.0, 'productores_481'),\n",
       " (0.0, 'productores_480'),\n",
       " (0.0, 'productores_48'),\n",
       " (0.0, 'productores_479'),\n",
       " (0.0, 'productores_478'),\n",
       " (0.0, 'productores_477'),\n",
       " (0.0, 'productores_476'),\n",
       " (0.0, 'productores_475'),\n",
       " (0.0, 'productores_474'),\n",
       " (0.0, 'productores_473'),\n",
       " (0.0, 'productores_472'),\n",
       " (0.0, 'productores_471'),\n",
       " (0.0, 'productores_470'),\n",
       " (0.0, 'productores_47'),\n",
       " (0.0, 'productores_469'),\n",
       " (0.0, 'productores_468'),\n",
       " (0.0, 'productores_467'),\n",
       " (0.0, 'productores_466'),\n",
       " (0.0, 'productores_465'),\n",
       " (0.0, 'productores_464'),\n",
       " (0.0, 'productores_463'),\n",
       " (0.0, 'productores_462'),\n",
       " (0.0, 'productores_461'),\n",
       " (0.0, 'productores_460'),\n",
       " (0.0, 'productores_46'),\n",
       " (0.0, 'productores_459'),\n",
       " (0.0, 'productores_458'),\n",
       " (0.0, 'productores_457'),\n",
       " (0.0, 'productores_456'),\n",
       " (0.0, 'productores_455'),\n",
       " (0.0, 'productores_454'),\n",
       " (0.0, 'productores_453'),\n",
       " (0.0, 'productores_452'),\n",
       " (0.0, 'productores_451'),\n",
       " (0.0, 'productores_450'),\n",
       " (0.0, 'productores_45'),\n",
       " (0.0, 'productores_449'),\n",
       " (0.0, 'productores_448'),\n",
       " (0.0, 'productores_447'),\n",
       " (0.0, 'productores_446'),\n",
       " (0.0, 'productores_445'),\n",
       " (0.0, 'productores_444'),\n",
       " (0.0, 'productores_443'),\n",
       " (0.0, 'productores_442'),\n",
       " (0.0, 'productores_441'),\n",
       " (0.0, 'productores_440'),\n",
       " (0.0, 'productores_44'),\n",
       " (0.0, 'productores_439'),\n",
       " (0.0, 'productores_438'),\n",
       " (0.0, 'productores_437'),\n",
       " (0.0, 'productores_436'),\n",
       " (0.0, 'productores_435'),\n",
       " (0.0, 'productores_434'),\n",
       " (0.0, 'productores_433'),\n",
       " (0.0, 'productores_432'),\n",
       " (0.0, 'productores_431'),\n",
       " (0.0, 'productores_430'),\n",
       " (0.0, 'productores_43'),\n",
       " (0.0, 'productores_429'),\n",
       " (0.0, 'productores_428'),\n",
       " (0.0, 'productores_427'),\n",
       " (0.0, 'productores_426'),\n",
       " (0.0, 'productores_425'),\n",
       " (0.0, 'productores_424'),\n",
       " (0.0, 'productores_423'),\n",
       " (0.0, 'productores_422'),\n",
       " (0.0, 'productores_421'),\n",
       " (0.0, 'productores_420'),\n",
       " (0.0, 'productores_42'),\n",
       " (0.0, 'productores_419'),\n",
       " (0.0, 'productores_418'),\n",
       " (0.0, 'productores_417'),\n",
       " (0.0, 'productores_416'),\n",
       " (0.0, 'productores_415'),\n",
       " (0.0, 'productores_414'),\n",
       " (0.0, 'productores_413'),\n",
       " (0.0, 'productores_412'),\n",
       " (0.0, 'productores_411'),\n",
       " (0.0, 'productores_410'),\n",
       " (0.0, 'productores_41'),\n",
       " (0.0, 'productores_409'),\n",
       " (0.0, 'productores_408'),\n",
       " (0.0, 'productores_407'),\n",
       " (0.0, 'productores_406'),\n",
       " (0.0, 'productores_405'),\n",
       " (0.0, 'productores_404'),\n",
       " (0.0, 'productores_403'),\n",
       " (0.0, 'productores_402'),\n",
       " (0.0, 'productores_401'),\n",
       " (0.0, 'productores_400'),\n",
       " (0.0, 'productores_40'),\n",
       " (0.0, 'productores_4'),\n",
       " (0.0, 'productores_399'),\n",
       " (0.0, 'productores_398'),\n",
       " (0.0, 'productores_397'),\n",
       " (0.0, 'productores_396'),\n",
       " (0.0, 'productores_395'),\n",
       " (0.0, 'productores_394'),\n",
       " (0.0, 'productores_393'),\n",
       " (0.0, 'productores_392'),\n",
       " (0.0, 'productores_391'),\n",
       " (0.0, 'productores_390'),\n",
       " (0.0, 'productores_39'),\n",
       " (0.0, 'productores_389'),\n",
       " (0.0, 'productores_388'),\n",
       " (0.0, 'productores_387'),\n",
       " (0.0, 'productores_386'),\n",
       " (0.0, 'productores_385'),\n",
       " (0.0, 'productores_384'),\n",
       " (0.0, 'productores_383'),\n",
       " (0.0, 'productores_382'),\n",
       " (0.0, 'productores_381'),\n",
       " (0.0, 'productores_380'),\n",
       " (0.0, 'productores_38'),\n",
       " (0.0, 'productores_379'),\n",
       " (0.0, 'productores_378'),\n",
       " (0.0, 'productores_377'),\n",
       " (0.0, 'productores_376'),\n",
       " (0.0, 'productores_375'),\n",
       " (0.0, 'productores_374'),\n",
       " (0.0, 'productores_373'),\n",
       " (0.0, 'productores_372'),\n",
       " (0.0, 'productores_371'),\n",
       " (0.0, 'productores_370'),\n",
       " (0.0, 'productores_37'),\n",
       " (0.0, 'productores_369'),\n",
       " (0.0, 'productores_368'),\n",
       " (0.0, 'productores_367'),\n",
       " (0.0, 'productores_366'),\n",
       " (0.0, 'productores_365'),\n",
       " (0.0, 'productores_364'),\n",
       " (0.0, 'productores_363'),\n",
       " (0.0, 'productores_362'),\n",
       " (0.0, 'productores_361'),\n",
       " (0.0, 'productores_360'),\n",
       " (0.0, 'productores_36'),\n",
       " (0.0, 'productores_359'),\n",
       " (0.0, 'productores_358'),\n",
       " (0.0, 'productores_357'),\n",
       " (0.0, 'productores_356'),\n",
       " (0.0, 'productores_355'),\n",
       " (0.0, 'productores_354'),\n",
       " (0.0, 'productores_353'),\n",
       " (0.0, 'productores_352'),\n",
       " (0.0, 'productores_351'),\n",
       " (0.0, 'productores_350'),\n",
       " (0.0, 'productores_35'),\n",
       " (0.0, 'productores_349'),\n",
       " (0.0, 'productores_348'),\n",
       " (0.0, 'productores_347'),\n",
       " (0.0, 'productores_346'),\n",
       " (0.0, 'productores_345'),\n",
       " (0.0, 'productores_344'),\n",
       " (0.0, 'productores_343'),\n",
       " (0.0, 'productores_342'),\n",
       " (0.0, 'productores_341'),\n",
       " (0.0, 'productores_340'),\n",
       " (0.0, 'productores_34'),\n",
       " (0.0, 'productores_339'),\n",
       " (0.0, 'productores_338'),\n",
       " (0.0, 'productores_337'),\n",
       " (0.0, 'productores_336'),\n",
       " (0.0, 'productores_335'),\n",
       " (0.0, 'productores_334'),\n",
       " (0.0, 'productores_333'),\n",
       " (0.0, 'productores_332'),\n",
       " (0.0, 'productores_331'),\n",
       " (0.0, 'productores_330'),\n",
       " (0.0, 'productores_33'),\n",
       " (0.0, 'productores_329'),\n",
       " (0.0, 'productores_328'),\n",
       " (0.0, 'productores_327'),\n",
       " (0.0, 'productores_326'),\n",
       " (0.0, 'productores_325'),\n",
       " (0.0, 'productores_324'),\n",
       " (0.0, 'productores_323'),\n",
       " (0.0, 'productores_322'),\n",
       " (0.0, 'productores_321'),\n",
       " (0.0, 'productores_320'),\n",
       " (0.0, 'productores_32'),\n",
       " (0.0, 'productores_319'),\n",
       " (0.0, 'productores_318'),\n",
       " (0.0, 'productores_317'),\n",
       " (0.0, 'productores_316'),\n",
       " (0.0, 'productores_315'),\n",
       " (0.0, 'productores_314'),\n",
       " (0.0, 'productores_313'),\n",
       " (0.0, 'productores_312'),\n",
       " (0.0, 'productores_311'),\n",
       " (0.0, 'productores_310'),\n",
       " (0.0, 'productores_31'),\n",
       " (0.0, 'productores_309'),\n",
       " (0.0, 'productores_308'),\n",
       " (0.0, 'productores_307'),\n",
       " (0.0, 'productores_306'),\n",
       " (0.0, 'productores_305'),\n",
       " (0.0, 'productores_304'),\n",
       " (0.0, 'productores_303'),\n",
       " (0.0, 'productores_302'),\n",
       " (0.0, 'productores_301'),\n",
       " (0.0, 'productores_300'),\n",
       " (0.0, 'productores_30'),\n",
       " (0.0, 'productores_3'),\n",
       " (0.0, 'productores_298'),\n",
       " (0.0, 'productores_297'),\n",
       " (0.0, 'productores_296'),\n",
       " (0.0, 'productores_295'),\n",
       " (0.0, 'productores_294'),\n",
       " (0.0, 'productores_293'),\n",
       " (0.0, 'productores_292'),\n",
       " (0.0, 'productores_291'),\n",
       " (0.0, 'productores_290'),\n",
       " (0.0, 'productores_29'),\n",
       " (0.0, 'productores_289'),\n",
       " (0.0, 'productores_288'),\n",
       " (0.0, 'productores_287'),\n",
       " (0.0, 'productores_286'),\n",
       " (0.0, 'productores_285'),\n",
       " (0.0, 'productores_284'),\n",
       " (0.0, 'productores_283'),\n",
       " (0.0, 'productores_282'),\n",
       " (0.0, 'productores_281'),\n",
       " (0.0, 'productores_280'),\n",
       " (0.0, 'productores_28'),\n",
       " (0.0, 'productores_279'),\n",
       " (0.0, 'productores_278'),\n",
       " (0.0, 'productores_276'),\n",
       " (0.0, 'productores_275'),\n",
       " (0.0, 'productores_274'),\n",
       " (0.0, 'productores_273'),\n",
       " (0.0, 'productores_272'),\n",
       " (0.0, 'productores_271'),\n",
       " (0.0, 'productores_270'),\n",
       " (0.0, 'productores_27'),\n",
       " (0.0, 'productores_269'),\n",
       " (0.0, 'productores_268'),\n",
       " (0.0, 'productores_267'),\n",
       " (0.0, 'productores_266'),\n",
       " (0.0, 'productores_265'),\n",
       " (0.0, 'productores_264'),\n",
       " (0.0, 'productores_263'),\n",
       " (0.0, 'productores_262'),\n",
       " (0.0, 'productores_261'),\n",
       " (0.0, 'productores_260'),\n",
       " (0.0, 'productores_26'),\n",
       " (0.0, 'productores_259'),\n",
       " (0.0, 'productores_258'),\n",
       " (0.0, 'productores_257'),\n",
       " (0.0, 'productores_256'),\n",
       " (0.0, 'productores_255'),\n",
       " (0.0, 'productores_254'),\n",
       " (0.0, 'productores_253'),\n",
       " (0.0, 'productores_252'),\n",
       " (0.0, 'productores_251'),\n",
       " (0.0, 'productores_250'),\n",
       " (0.0, 'productores_25'),\n",
       " (0.0, 'productores_249'),\n",
       " (0.0, 'productores_248'),\n",
       " (0.0, 'productores_247'),\n",
       " (0.0, 'productores_246'),\n",
       " (0.0, 'productores_245'),\n",
       " (0.0, 'productores_244'),\n",
       " (0.0, 'productores_243'),\n",
       " (0.0, 'productores_242'),\n",
       " (0.0, 'productores_241'),\n",
       " (0.0, 'productores_240'),\n",
       " (0.0, 'productores_24'),\n",
       " (0.0, 'productores_239'),\n",
       " (0.0, 'productores_238'),\n",
       " (0.0, 'productores_237'),\n",
       " (0.0, 'productores_236'),\n",
       " (0.0, 'productores_235'),\n",
       " (0.0, 'productores_234'),\n",
       " (0.0, 'productores_233'),\n",
       " (0.0, 'productores_232'),\n",
       " (0.0, 'productores_231'),\n",
       " (0.0, 'productores_230'),\n",
       " (0.0, 'productores_23'),\n",
       " (0.0, 'productores_229'),\n",
       " (0.0, 'productores_228'),\n",
       " (0.0, 'productores_227'),\n",
       " (0.0, 'productores_226'),\n",
       " (0.0, 'productores_225'),\n",
       " (0.0, 'productores_224'),\n",
       " (0.0, 'productores_223'),\n",
       " (0.0, 'productores_222'),\n",
       " (0.0, 'productores_221'),\n",
       " (0.0, 'productores_220'),\n",
       " (0.0, 'productores_22'),\n",
       " (0.0, 'productores_219'),\n",
       " (0.0, 'productores_218'),\n",
       " (0.0, 'productores_217'),\n",
       " (0.0, 'productores_216'),\n",
       " (0.0, 'productores_215'),\n",
       " (0.0, 'productores_214'),\n",
       " (0.0, 'productores_213'),\n",
       " (0.0, 'productores_212'),\n",
       " (0.0, 'productores_211'),\n",
       " (0.0, 'productores_210'),\n",
       " (0.0, 'productores_21'),\n",
       " (0.0, 'productores_209'),\n",
       " (0.0, 'productores_208'),\n",
       " (0.0, 'productores_207'),\n",
       " (0.0, 'productores_206'),\n",
       " (0.0, 'productores_205'),\n",
       " (0.0, 'productores_204'),\n",
       " (0.0, 'productores_203'),\n",
       " (0.0, 'productores_202'),\n",
       " (0.0, 'productores_201'),\n",
       " (0.0, 'productores_200'),\n",
       " (0.0, 'productores_20'),\n",
       " (0.0, 'productores_2'),\n",
       " (0.0, 'productores_199'),\n",
       " (0.0, 'productores_198'),\n",
       " (0.0, 'productores_197'),\n",
       " (0.0, 'productores_196'),\n",
       " (0.0, 'productores_195'),\n",
       " (0.0, 'productores_194'),\n",
       " (0.0, 'productores_193'),\n",
       " (0.0, 'productores_192'),\n",
       " (0.0, 'productores_191'),\n",
       " (0.0, 'productores_190'),\n",
       " (0.0, 'productores_19'),\n",
       " (0.0, 'productores_189'),\n",
       " (0.0, 'productores_188'),\n",
       " (0.0, 'productores_187'),\n",
       " (0.0, 'productores_186'),\n",
       " (0.0, 'productores_185'),\n",
       " (0.0, 'productores_184'),\n",
       " (0.0, 'productores_183'),\n",
       " (0.0, 'productores_182'),\n",
       " (0.0, 'productores_181'),\n",
       " (0.0, 'productores_180'),\n",
       " (0.0, 'productores_18'),\n",
       " (0.0, 'productores_179'),\n",
       " (0.0, 'productores_178'),\n",
       " (0.0, 'productores_177'),\n",
       " (0.0, 'productores_176'),\n",
       " (0.0, 'productores_175'),\n",
       " (0.0, 'productores_174'),\n",
       " (0.0, 'productores_173'),\n",
       " (0.0, 'productores_172'),\n",
       " (0.0, 'productores_171'),\n",
       " (0.0, 'productores_170'),\n",
       " (0.0, 'productores_17'),\n",
       " (0.0, 'productores_169'),\n",
       " (0.0, 'productores_168'),\n",
       " (0.0, 'productores_167'),\n",
       " (0.0, 'productores_166'),\n",
       " (0.0, 'productores_165'),\n",
       " (0.0, 'productores_164'),\n",
       " (0.0, 'productores_163'),\n",
       " (0.0, 'productores_162'),\n",
       " (0.0, 'productores_161'),\n",
       " (0.0, 'productores_160'),\n",
       " (0.0, 'productores_16'),\n",
       " (0.0, 'productores_159'),\n",
       " (0.0, 'productores_158'),\n",
       " (0.0, 'productores_157'),\n",
       " (0.0, 'productores_156'),\n",
       " (0.0, 'productores_155'),\n",
       " (0.0, 'productores_154'),\n",
       " (0.0, 'productores_153'),\n",
       " (0.0, 'productores_152'),\n",
       " (0.0, 'productores_151'),\n",
       " (0.0, 'productores_150'),\n",
       " (0.0, 'productores_15'),\n",
       " (0.0, 'productores_149'),\n",
       " (0.0, 'productores_148'),\n",
       " (0.0, 'productores_147'),\n",
       " (0.0, 'productores_146'),\n",
       " (0.0, 'productores_145'),\n",
       " (0.0, 'productores_144'),\n",
       " (0.0, 'productores_143'),\n",
       " (0.0, 'productores_142'),\n",
       " (0.0, 'productores_141'),\n",
       " (0.0, 'productores_140'),\n",
       " (0.0, 'productores_14'),\n",
       " (0.0, 'productores_139'),\n",
       " (0.0, 'productores_138'),\n",
       " (0.0, 'productores_137'),\n",
       " (0.0, 'productores_136'),\n",
       " (0.0, 'productores_135'),\n",
       " (0.0, 'productores_134'),\n",
       " (0.0, 'productores_133'),\n",
       " (0.0, 'productores_132'),\n",
       " (0.0, 'productores_131'),\n",
       " (0.0, 'productores_130'),\n",
       " (0.0, 'productores_13'),\n",
       " (0.0, 'productores_129'),\n",
       " (0.0, 'productores_128'),\n",
       " (0.0, 'productores_127'),\n",
       " (0.0, 'productores_126'),\n",
       " (0.0, 'productores_125'),\n",
       " (0.0, 'productores_124'),\n",
       " (0.0, 'productores_123'),\n",
       " (0.0, 'productores_122'),\n",
       " (0.0, 'productores_120'),\n",
       " (0.0, 'productores_12'),\n",
       " (0.0, 'productores_119'),\n",
       " (0.0, 'productores_118'),\n",
       " (0.0, 'productores_117'),\n",
       " (0.0, 'productores_116'),\n",
       " (0.0, 'productores_115'),\n",
       " (0.0, 'productores_114'),\n",
       " (0.0, 'productores_113'),\n",
       " (0.0, 'productores_112'),\n",
       " (0.0, 'productores_111'),\n",
       " (0.0, 'productores_110'),\n",
       " (0.0, 'productores_11'),\n",
       " (0.0, 'productores_109'),\n",
       " (0.0, 'productores_108'),\n",
       " (0.0, 'productores_107'),\n",
       " (0.0, 'productores_106'),\n",
       " (0.0, 'productores_105'),\n",
       " (0.0, 'productores_104'),\n",
       " (0.0, 'productores_103'),\n",
       " (0.0, 'productores_102'),\n",
       " (0.0, 'productores_101'),\n",
       " (0.0, 'productores_100'),\n",
       " (0.0, 'productores_10'),\n",
       " (0.0, 'productores_1'),\n",
       " (0.0, 'presupuesto'),\n",
       " (0.0, 'popularidad'),\n",
       " (0.0, 'pais_9'),\n",
       " (0.0, 'pais_8'),\n",
       " (0.0, 'pais_7'),\n",
       " (0.0, 'pais_6'),\n",
       " (0.0, 'pais_5'),\n",
       " (0.0, 'pais_4'),\n",
       " (0.0, 'pais_33'),\n",
       " (0.0, 'pais_32'),\n",
       " (0.0, 'pais_31'),\n",
       " (0.0, 'pais_30'),\n",
       " (0.0, 'pais_3'),\n",
       " (0.0, 'pais_29'),\n",
       " (0.0, 'pais_28'),\n",
       " (0.0, 'pais_27'),\n",
       " (0.0, 'pais_26'),\n",
       " (0.0, 'pais_25'),\n",
       " (0.0, 'pais_24'),\n",
       " (0.0, 'pais_23'),\n",
       " (0.0, 'pais_22'),\n",
       " (0.0, 'pais_21'),\n",
       " (0.0, 'pais_20'),\n",
       " (0.0, 'pais_2'),\n",
       " (0.0, 'pais_19'),\n",
       " (0.0, 'pais_18'),\n",
       " (0.0, 'pais_17'),\n",
       " (0.0, 'pais_16'),\n",
       " (0.0, 'pais_15'),\n",
       " (0.0, 'pais_14'),\n",
       " (0.0, 'pais_13'),\n",
       " (0.0, 'pais_12'),\n",
       " (0.0, 'pais_11'),\n",
       " (0.0, 'pais_10'),\n",
       " (0.0, 'pais_1'),\n",
       " (0.0, 'n_votos'),\n",
       " (0.0, 'lenguaje_9'),\n",
       " (0.0, 'lenguaje_8'),\n",
       " (0.0, 'lenguaje_7'),\n",
       " (0.0, 'lenguaje_6'),\n",
       " (0.0, 'lenguaje_5'),\n",
       " (0.0, 'lenguaje_4'),\n",
       " (0.0, 'lenguaje_3'),\n",
       " (0.0, 'lenguaje_28'),\n",
       " (0.0, 'lenguaje_27'),\n",
       " (0.0, 'lenguaje_26'),\n",
       " (0.0, 'lenguaje_25'),\n",
       " (0.0, 'lenguaje_24'),\n",
       " (0.0, 'lenguaje_23'),\n",
       " (0.0, 'lenguaje_22'),\n",
       " (0.0, 'lenguaje_21'),\n",
       " (0.0, 'lenguaje_20'),\n",
       " (0.0, 'lenguaje_2'),\n",
       " (0.0, 'lenguaje_19'),\n",
       " (0.0, 'lenguaje_18'),\n",
       " (0.0, 'lenguaje_17'),\n",
       " (0.0, 'lenguaje_16'),\n",
       " (0.0, 'lenguaje_15'),\n",
       " (0.0, 'lenguaje_14'),\n",
       " (0.0, 'lenguaje_13'),\n",
       " (0.0, 'lenguaje_12'),\n",
       " (0.0, 'lenguaje_11'),\n",
       " (0.0, 'lenguaje_10'),\n",
       " (0.0, 'lenguaje_1'),\n",
       " (0.0, 'genero_9'),\n",
       " (0.0, 'genero_8'),\n",
       " (0.0, 'genero_7'),\n",
       " (0.0, 'genero_6'),\n",
       " (0.0, 'genero_5'),\n",
       " (0.0, 'genero_4'),\n",
       " (0.0, 'genero_3'),\n",
       " (0.0, 'genero_2'),\n",
       " (0.0, 'genero_18'),\n",
       " (0.0, 'genero_17'),\n",
       " (0.0, 'genero_16'),\n",
       " (0.0, 'genero_15'),\n",
       " (0.0, 'genero_14'),\n",
       " (0.0, 'genero_13'),\n",
       " (0.0, 'genero_12'),\n",
       " (0.0, 'genero_11'),\n",
       " (0.0, 'genero_10'),\n",
       " (0.0, 'genero_1'),\n",
       " (0.0, 'duracion')]"
      ]
     },
     "execution_count": 50,
     "metadata": {},
     "output_type": "execute_result"
    }
   ],
   "source": [
    "sorted(zip(modelo.feature_importances_,pelis.drop(\"ventas\",axis=1).columns),reverse = True)"
   ]
  }
 ],
 "metadata": {
  "kernelspec": {
   "display_name": "Python 3",
   "language": "python",
   "name": "python3"
  },
  "language_info": {
   "codemirror_mode": {
    "name": "ipython",
    "version": 3
   },
   "file_extension": ".py",
   "mimetype": "text/x-python",
   "name": "python",
   "nbconvert_exporter": "python",
   "pygments_lexer": "ipython3",
   "version": "3.6.6"
  }
 },
 "nbformat": 4,
 "nbformat_minor": 2
}
